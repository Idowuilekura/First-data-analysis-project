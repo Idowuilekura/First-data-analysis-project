{
 "cells": [
  {
   "cell_type": "markdown",
   "metadata": {},
   "source": [
    "# ios app analysis \n",
    "\n"
   ]
  },
  {
   "cell_type": "markdown",
   "metadata": {},
   "source": [
    "this guided project is meant to analyse dsta to help our developers understsnd what kinds of apps are likrly to attract more users"
   ]
  },
  {
   "cell_type": "code",
   "execution_count": 1,
   "metadata": {
    "collapsed": true
   },
   "outputs": [],
   "source": [
    "def explore_data(dataset,start,end,rows_and_columns = False):\n",
    "    data_slice = dataset[start:end]\n",
    "    for apps in data_slice:\n",
    "        print(apps)\n",
    "        print('\\n')\n",
    "    if rows_and_columns:\n",
    "        print('column :',len(dataset))\n",
    "        print('row :',len(dataset[0]))"
   ]
  },
  {
   "cell_type": "code",
   "execution_count": 2,
   "metadata": {
    "collapsed": false
   },
   "outputs": [],
   "source": [
    "opened_file = open('AppleStore.csv')\n",
    "from csv import reader\n",
    "read_file = reader(opened_file)\n",
    "ios = list(read_file)\n",
    "ios_list = ios[1:]"
   ]
  },
  {
   "cell_type": "code",
   "execution_count": 3,
   "metadata": {
    "collapsed": false
   },
   "outputs": [],
   "source": [
    "opened_file = open('googleplaystore.csv')\n",
    "from csv import reader\n",
    "read_file = reader(opened_file)\n",
    "android = list(read_file)\n",
    "android_list = android[1:]\n",
    "    "
   ]
  },
  {
   "cell_type": "code",
   "execution_count": 4,
   "metadata": {
    "collapsed": false
   },
   "outputs": [
    {
     "name": "stdout",
     "output_type": "stream",
     "text": [
      "['389801252', 'Instagram', '113954816', 'USD', '0.0', '2161558', '1289', '4.5', '4.0', '10.23', '12+', 'Photo & Video', '37', '0', '29', '1']\n",
      "\n",
      "\n",
      "None\n"
     ]
    }
   ],
   "source": [
    "print(explore_data(ios_list,1,2,rows_and_columns = False))"
   ]
  },
  {
   "cell_type": "code",
   "execution_count": 5,
   "metadata": {
    "collapsed": false,
    "scrolled": false
   },
   "outputs": [
    {
     "name": "stdout",
     "output_type": "stream",
     "text": [
      "['id', 'track_name', 'size_bytes', 'currency', 'price', 'rating_count_tot', 'rating_count_ver', 'user_rating', 'user_rating_ver', 'ver', 'cont_rating', 'prime_genre', 'sup_devices.num', 'ipadSc_urls.num', 'lang.num', 'vpp_lic']\n"
     ]
    }
   ],
   "source": [
    "print(ios[0])"
   ]
  },
  {
   "cell_type": "code",
   "execution_count": 6,
   "metadata": {
    "collapsed": false
   },
   "outputs": [
    {
     "name": "stdout",
     "output_type": "stream",
     "text": [
      "['Coloring book moana', 'ART_AND_DESIGN', '3.9', '967', '14M', '500,000+', 'Free', '0', 'Everyone', 'Art & Design;Pretend Play', 'January 15, 2018', '2.0.0', '4.0.3 and up']\n",
      "\n",
      "\n",
      "['U Launcher Lite – FREE Live Cool Themes, Hide Apps', 'ART_AND_DESIGN', '4.7', '87510', '8.7M', '5,000,000+', 'Free', '0', 'Everyone', 'Art & Design', 'August 1, 2018', '1.2.4', '4.0.3 and up']\n",
      "\n",
      "\n",
      "['Sketch - Draw & Paint', 'ART_AND_DESIGN', '4.5', '215644', '25M', '50,000,000+', 'Free', '0', 'Teen', 'Art & Design', 'June 8, 2018', 'Varies with device', '4.2 and up']\n",
      "\n",
      "\n",
      "column : 10841\n",
      "row : 13\n",
      "None\n"
     ]
    }
   ],
   "source": [
    "print(explore_data(android_list,1,4,True))"
   ]
  },
  {
   "cell_type": "code",
   "execution_count": 7,
   "metadata": {
    "collapsed": false
   },
   "outputs": [
    {
     "name": "stdout",
     "output_type": "stream",
     "text": [
      "['Photo Editor & Candy Camera & Grid & ScrapBook', 'ART_AND_DESIGN', '4.1', '159', '19M', '10,000+', 'Free', '0', 'Everyone', 'Art & Design', 'January 7, 2018', '1.0.0', '4.0.3 and up']\n",
      "\n",
      "\n",
      "['Life Made WI-Fi Touchscreen Photo Frame', '1.9', '19', '3.0M', '1,000+', 'Free', '0', 'Everyone', '', 'February 11, 2018', '1.0.19', '4.0 and up']\n",
      "\n",
      "\n",
      "['U Launcher Lite – FREE Live Cool Themes, Hide Apps', 'ART_AND_DESIGN', '4.7', '87510', '8.7M', '5,000,000+', 'Free', '0', 'Everyone', 'Art & Design', 'August 1, 2018', '1.2.4', '4.0.3 and up']\n"
     ]
    }
   ],
   "source": [
    "print(android_list[0])\n",
    "print('\\n')\n",
    "print(android_list[10472])\n",
    "print('\\n')\n",
    "print(android_list[2])"
   ]
  },
  {
   "cell_type": "code",
   "execution_count": 8,
   "metadata": {
    "collapsed": false
   },
   "outputs": [],
   "source": [
    "del android_list[10472]"
   ]
  },
  {
   "cell_type": "code",
   "execution_count": 9,
   "metadata": {
    "collapsed": false
   },
   "outputs": [],
   "source": [
    "duplicate_apps = []\n",
    "unique_apps = []\n",
    "for apps in android_list:\n",
    "    name = apps[0]\n",
    "    if name in unique_apps:\n",
    "        duplicate_apps.append(name)\n",
    "    else:\n",
    "        unique_apps.append(name)"
   ]
  },
  {
   "cell_type": "code",
   "execution_count": 10,
   "metadata": {
    "collapsed": false
   },
   "outputs": [
    {
     "name": "stdout",
     "output_type": "stream",
     "text": [
      "9659\n",
      "1181\n"
     ]
    }
   ],
   "source": [
    "print(len(unique_apps))\n",
    "\n",
    "print(len(duplicate_apps))"
   ]
  },
  {
   "cell_type": "code",
   "execution_count": 11,
   "metadata": {
    "collapsed": false
   },
   "outputs": [
    {
     "name": "stdout",
     "output_type": "stream",
     "text": [
      "['Box', 'Google My Business']\n"
     ]
    }
   ],
   "source": [
    "print(duplicate_apps[1:3])\n",
    "    "
   ]
  },
  {
   "cell_type": "code",
   "execution_count": 12,
   "metadata": {
    "collapsed": false
   },
   "outputs": [],
   "source": [
    "reviews_max = {}\n",
    "for apps in android_list:\n",
    "    name = apps[0]\n",
    "    n_reviews = float(apps[3])\n",
    "    if (name in reviews_max) and (reviews_max[name] < n_reviews):\n",
    "        reviews_max[name] = n_reviews\n",
    "    elif name not in reviews_max:\n",
    "        reviews_max[name] = n_reviews\n",
    "    "
   ]
  },
  {
   "cell_type": "code",
   "execution_count": 13,
   "metadata": {
    "collapsed": true
   },
   "outputs": [],
   "source": [
    "android_clean = []\n",
    "already_added = []\n",
    "for apps in android_list:\n",
    "    name = apps[0]\n",
    "    n_reviews = float(apps[3])\n",
    "    if n_reviews == reviews_max[name] and name not in already_added:\n",
    "        android_clean.append(apps)\n",
    "        already_added.append(name)"
   ]
  },
  {
   "cell_type": "code",
   "execution_count": 14,
   "metadata": {
    "collapsed": false
   },
   "outputs": [
    {
     "name": "stdout",
     "output_type": "stream",
     "text": [
      "U Launcher Lite – FREE Live Cool Themes, Hide Apps\n",
      "\n",
      "\n",
      "Sketch - Draw & Paint\n",
      "\n",
      "\n",
      "column : 9659\n",
      "row : 46\n",
      "None\n"
     ]
    }
   ],
   "source": [
    "print(explore_data(already_added,1,3,True))"
   ]
  },
  {
   "cell_type": "code",
   "execution_count": 15,
   "metadata": {
    "collapsed": false
   },
   "outputs": [
    {
     "name": "stdout",
     "output_type": "stream",
     "text": [
      "['U Launcher Lite – FREE Live Cool Themes, Hide Apps', 'ART_AND_DESIGN', '4.7', '87510', '8.7M', '5,000,000+', 'Free', '0', 'Everyone', 'Art & Design', 'August 1, 2018', '1.2.4', '4.0.3 and up']\n",
      "\n",
      "\n",
      "['Sketch - Draw & Paint', 'ART_AND_DESIGN', '4.5', '215644', '25M', '50,000,000+', 'Free', '0', 'Teen', 'Art & Design', 'June 8, 2018', 'Varies with device', '4.2 and up']\n",
      "\n",
      "\n",
      "column : 9659\n",
      "row : 13\n",
      "None\n"
     ]
    }
   ],
   "source": [
    "print(explore_data(android_clean,1,3,True))"
   ]
  },
  {
   "cell_type": "code",
   "execution_count": 16,
   "metadata": {
    "collapsed": false
   },
   "outputs": [],
   "source": [
    "def english(dataset):\n",
    "    count = 0\n",
    "    for i in dataset:\n",
    "        if ord(i) > 127:\n",
    "            count += 1\n",
    "    if count > 3:\n",
    "        return False\n",
    "    return True\n",
    "              \n",
    "        \n"
   ]
  },
  {
   "cell_type": "code",
   "execution_count": 17,
   "metadata": {
    "collapsed": false
   },
   "outputs": [
    {
     "name": "stdout",
     "output_type": "stream",
     "text": [
      "True\n"
     ]
    }
   ],
   "source": [
    "print(english('hello'))"
   ]
  },
  {
   "cell_type": "code",
   "execution_count": 18,
   "metadata": {
    "collapsed": false
   },
   "outputs": [],
   "source": [
    "android_eng_app = []\n",
    "for apps in android_clean:\n",
    "    name = apps[0]\n",
    "    if english(name):\n",
    "        android_eng_app.append(apps)"
   ]
  },
  {
   "cell_type": "code",
   "execution_count": 19,
   "metadata": {
    "collapsed": true
   },
   "outputs": [],
   "source": [
    "ios_eng_app = []\n",
    "for apps in ios_list:\n",
    "    name = apps[2]\n",
    "    if english(name):\n",
    "        ios_eng_app.append(apps)"
   ]
  },
  {
   "cell_type": "code",
   "execution_count": 20,
   "metadata": {
    "collapsed": false
   },
   "outputs": [
    {
     "name": "stdout",
     "output_type": "stream",
     "text": [
      "['U Launcher Lite – FREE Live Cool Themes, Hide Apps', 'ART_AND_DESIGN', '4.7', '87510', '8.7M', '5,000,000+', 'Free', '0', 'Everyone', 'Art & Design', 'August 1, 2018', '1.2.4', '4.0.3 and up']\n",
      "\n",
      "\n",
      "['Sketch - Draw & Paint', 'ART_AND_DESIGN', '4.5', '215644', '25M', '50,000,000+', 'Free', '0', 'Teen', 'Art & Design', 'June 8, 2018', 'Varies with device', '4.2 and up']\n",
      "\n",
      "\n",
      "column : 9614\n",
      "row : 13\n",
      "None\n"
     ]
    }
   ],
   "source": [
    "print(explore_data(android_eng_app,1,3,True))"
   ]
  },
  {
   "cell_type": "code",
   "execution_count": 21,
   "metadata": {
    "collapsed": false
   },
   "outputs": [
    {
     "name": "stdout",
     "output_type": "stream",
     "text": [
      "['App', 'Category', 'Rating', 'Reviews', 'Size', 'Installs', 'Type', 'Price', 'Content Rating', 'Genres', 'Last Updated', 'Current Ver', 'Android Ver']\n",
      "\n",
      "\n",
      "[['Photo Editor & Candy Camera & Grid & ScrapBook', 'ART_AND_DESIGN', '4.1', '159', '19M', '10,000+', 'Free', '0', 'Everyone', 'Art & Design', 'January 7, 2018', '1.0.0', '4.0.3 and up'], ['Coloring book moana', 'ART_AND_DESIGN', '3.9', '967', '14M', '500,000+', 'Free', '0', 'Everyone', 'Art & Design;Pretend Play', 'January 15, 2018', '2.0.0', '4.0.3 and up']]\n"
     ]
    }
   ],
   "source": [
    "print(android[0])\n",
    "print('\\n')\n",
    "print(android[1:3])"
   ]
  },
  {
   "cell_type": "code",
   "execution_count": 22,
   "metadata": {
    "collapsed": false
   },
   "outputs": [
    {
     "name": "stdout",
     "output_type": "stream",
     "text": [
      "[['id', 'track_name', 'size_bytes', 'currency', 'price', 'rating_count_tot', 'rating_count_ver', 'user_rating', 'user_rating_ver', 'ver', 'cont_rating', 'prime_genre', 'sup_devices.num', 'ipadSc_urls.num', 'lang.num', 'vpp_lic'], ['284882215', 'Facebook', '389879808', 'USD', '0.0', '2974676', '212', '3.5', '3.5', '95.0', '4+', 'Social Networking', '37', '1', '29', '1']]\n"
     ]
    }
   ],
   "source": [
    "print(ios[:2])"
   ]
  },
  {
   "cell_type": "code",
   "execution_count": 23,
   "metadata": {
    "collapsed": false
   },
   "outputs": [
    {
     "name": "stdout",
     "output_type": "stream",
     "text": [
      "8864\n",
      "4056\n"
     ]
    }
   ],
   "source": [
    "free_android_app = []\n",
    "for app in android_eng_app:\n",
    "    price = app[7]\n",
    "    if price == '0':\n",
    "        free_android_app.append(app)\n",
    "\n",
    "free_ios_app = []\n",
    "for app in ios_eng_app:\n",
    "    price = app[4]\n",
    "    if price == '0.0':\n",
    "        free_ios_app.append(app)\n",
    "\n",
    "print(len(free_android_app))\n",
    "print(len(free_ios_app))"
   ]
  },
  {
   "cell_type": "code",
   "execution_count": 24,
   "metadata": {
    "collapsed": true
   },
   "outputs": [],
   "source": [
    "def freq_table(dataset,index):\n",
    "    em_dictionary = {}\n",
    "    count = 0\n",
    "    for apps in dataset:\n",
    "        count += 1\n",
    "        value = apps[index]\n",
    "        if value in em_dictionary:\n",
    "            em_dictionary[value] += 1\n",
    "        else:\n",
    "            em_dictionary[value] = 1\n",
    "    \n",
    "    proportion = {}\n",
    "    for key in em_dictionary:\n",
    "        percentage = (em_dictionary[key]/count)*100\n",
    "        proportion[key] = percentage\n",
    "    \n",
    "    return proportion         \n",
    "    \n",
    "\n",
    "\n",
    "def display_table(dataset,index):\n",
    "    table = freq_table(dataset,index)\n",
    "    table_list = []\n",
    "    for key in table:\n",
    "        key_value_as_tuple = (table[key],key)\n",
    "        table_list.append(key_value_as_tuple)\n",
    "    sorted_list = sorted(table_list,reverse = True)\n",
    "    for i in sorted_list:\n",
    "        print(i[0],':',i[1])"
   ]
  },
  {
   "cell_type": "code",
   "execution_count": 25,
   "metadata": {
    "collapsed": false
   },
   "outputs": [
    {
     "name": "stdout",
     "output_type": "stream",
     "text": [
      "55.64595660749507 : Games\n",
      "8.234714003944774 : Entertainment\n",
      "4.117357001972387 : Photo & Video\n",
      "3.5256410256410255 : Social Networking\n",
      "3.2544378698224854 : Education\n",
      "2.983234714003945 : Shopping\n",
      "2.687376725838264 : Utilities\n",
      "2.3175542406311638 : Lifestyle\n",
      "2.0710059171597637 : Finance\n",
      "1.947731755424063 : Sports\n",
      "1.8737672583826428 : Health & Fitness\n",
      "1.6518737672583828 : Music\n",
      "1.6272189349112427 : Book\n",
      "1.5285996055226825 : Productivity\n",
      "1.4299802761341223 : News\n",
      "1.3806706114398422 : Travel\n",
      "1.0601577909270217 : Food & Drink\n",
      "0.7642998027613412 : Weather\n",
      "0.4930966469428008 : Reference\n",
      "0.4930966469428008 : Navigation\n",
      "0.4930966469428008 : Business\n",
      "0.22189349112426035 : Catalogs\n",
      "0.19723865877712032 : Medical\n",
      "None\n",
      "\n",
      "\n",
      "18.907942238267147 : FAMILY\n",
      "9.724729241877256 : GAME\n",
      "8.461191335740072 : TOOLS\n",
      "4.591606498194946 : BUSINESS\n",
      "3.9034296028880866 : LIFESTYLE\n",
      "3.892148014440433 : PRODUCTIVITY\n",
      "3.7003610108303246 : FINANCE\n",
      "3.531137184115524 : MEDICAL\n",
      "3.395758122743682 : SPORTS\n",
      "3.3167870036101084 : PERSONALIZATION\n",
      "3.2378158844765346 : COMMUNICATION\n",
      "3.0798736462093865 : HEALTH_AND_FITNESS\n",
      "2.944494584837545 : PHOTOGRAPHY\n",
      "2.7978339350180503 : NEWS_AND_MAGAZINES\n",
      "2.6624548736462095 : SOCIAL\n",
      "2.33528880866426 : TRAVEL_AND_LOCAL\n",
      "2.2450361010830324 : SHOPPING\n",
      "2.1435018050541514 : BOOKS_AND_REFERENCE\n",
      "1.861462093862816 : DATING\n",
      "1.7937725631768955 : VIDEO_PLAYERS\n",
      "1.3989169675090252 : MAPS_AND_NAVIGATION\n",
      "1.2409747292418771 : FOOD_AND_DRINK\n",
      "1.1620036101083033 : EDUCATION\n",
      "0.9589350180505415 : ENTERTAINMENT\n",
      "0.9363718411552346 : LIBRARIES_AND_DEMO\n",
      "0.9250902527075812 : AUTO_AND_VEHICLES\n",
      "0.8235559566787004 : HOUSE_AND_HOME\n",
      "0.8009927797833934 : WEATHER\n",
      "0.7107400722021661 : EVENTS\n",
      "0.6543321299638989 : PARENTING\n",
      "0.6430505415162455 : ART_AND_DESIGN\n",
      "0.6204873646209386 : COMICS\n",
      "0.5979241877256317 : BEAUTY\n",
      "None\n",
      "\n",
      "\n",
      "8.449909747292418 : Tools\n",
      "6.069494584837545 : Entertainment\n",
      "5.347472924187725 : Education\n",
      "4.591606498194946 : Business\n",
      "3.892148014440433 : Productivity\n",
      "3.892148014440433 : Lifestyle\n",
      "3.7003610108303246 : Finance\n",
      "3.531137184115524 : Medical\n",
      "3.463447653429603 : Sports\n",
      "3.3167870036101084 : Personalization\n",
      "3.2378158844765346 : Communication\n",
      "3.1024368231046933 : Action\n",
      "3.0798736462093865 : Health & Fitness\n",
      "2.944494584837545 : Photography\n",
      "2.7978339350180503 : News & Magazines\n",
      "2.6624548736462095 : Social\n",
      "2.3240072202166067 : Travel & Local\n",
      "2.2450361010830324 : Shopping\n",
      "2.1435018050541514 : Books & Reference\n",
      "2.0419675090252705 : Simulation\n",
      "1.861462093862816 : Dating\n",
      "1.8501805054151623 : Arcade\n",
      "1.7712093862815883 : Video Players & Editors\n",
      "1.7599277978339352 : Casual\n",
      "1.3989169675090252 : Maps & Navigation\n",
      "1.2409747292418771 : Food & Drink\n",
      "1.128158844765343 : Puzzle\n",
      "0.9927797833935018 : Racing\n",
      "0.9363718411552346 : Role Playing\n",
      "0.9363718411552346 : Libraries & Demo\n",
      "0.9250902527075812 : Auto & Vehicles\n",
      "0.9138086642599278 : Strategy\n",
      "0.8235559566787004 : House & Home\n",
      "0.8009927797833934 : Weather\n",
      "0.7107400722021661 : Events\n",
      "0.6768953068592057 : Adventure\n",
      "0.6092057761732852 : Comics\n",
      "0.5979241877256317 : Beauty\n",
      "0.5979241877256317 : Art & Design\n",
      "0.4963898916967509 : Parenting\n",
      "0.45126353790613716 : Card\n",
      "0.42870036101083037 : Casino\n",
      "0.41741877256317694 : Trivia\n",
      "0.39485559566787 : Educational;Education\n",
      "0.3835740072202166 : Board\n",
      "0.3722924187725632 : Educational\n",
      "0.33844765342960287 : Education;Education\n",
      "0.2594765342960289 : Word\n",
      "0.236913357400722 : Casual;Pretend Play\n",
      "0.2030685920577617 : Music\n",
      "0.16922382671480143 : Racing;Action & Adventure\n",
      "0.16922382671480143 : Puzzle;Brain Games\n",
      "0.16922382671480143 : Entertainment;Music & Video\n",
      "0.13537906137184114 : Casual;Brain Games\n",
      "0.13537906137184114 : Casual;Action & Adventure\n",
      "0.12409747292418773 : Arcade;Action & Adventure\n",
      "0.10153429602888085 : Action;Action & Adventure\n",
      "0.09025270758122744 : Educational;Pretend Play\n",
      "0.078971119133574 : Simulation;Action & Adventure\n",
      "0.078971119133574 : Parenting;Education\n",
      "0.078971119133574 : Entertainment;Brain Games\n",
      "0.078971119133574 : Board;Brain Games\n",
      "0.06768953068592057 : Parenting;Music & Video\n",
      "0.06768953068592057 : Educational;Brain Games\n",
      "0.06768953068592057 : Casual;Creativity\n",
      "0.06768953068592057 : Art & Design;Creativity\n",
      "0.056407942238267145 : Education;Pretend Play\n",
      "0.04512635379061372 : Role Playing;Pretend Play\n",
      "0.04512635379061372 : Education;Creativity\n",
      "0.033844765342960284 : Role Playing;Action & Adventure\n",
      "0.033844765342960284 : Puzzle;Action & Adventure\n",
      "0.033844765342960284 : Entertainment;Creativity\n",
      "0.033844765342960284 : Entertainment;Action & Adventure\n",
      "0.033844765342960284 : Educational;Creativity\n",
      "0.033844765342960284 : Educational;Action & Adventure\n",
      "0.033844765342960284 : Education;Music & Video\n",
      "0.033844765342960284 : Education;Brain Games\n",
      "0.033844765342960284 : Education;Action & Adventure\n",
      "0.033844765342960284 : Adventure;Action & Adventure\n",
      "0.02256317689530686 : Video Players & Editors;Music & Video\n",
      "0.02256317689530686 : Sports;Action & Adventure\n",
      "0.02256317689530686 : Simulation;Pretend Play\n",
      "0.02256317689530686 : Puzzle;Creativity\n",
      "0.02256317689530686 : Music;Music & Video\n",
      "0.02256317689530686 : Entertainment;Pretend Play\n",
      "0.02256317689530686 : Casual;Education\n",
      "0.02256317689530686 : Board;Action & Adventure\n",
      "0.01128158844765343 : Video Players & Editors;Creativity\n",
      "0.01128158844765343 : Trivia;Education\n",
      "0.01128158844765343 : Travel & Local;Action & Adventure\n",
      "0.01128158844765343 : Tools;Education\n",
      "0.01128158844765343 : Strategy;Education\n",
      "0.01128158844765343 : Strategy;Creativity\n",
      "0.01128158844765343 : Strategy;Action & Adventure\n",
      "0.01128158844765343 : Simulation;Education\n",
      "0.01128158844765343 : Role Playing;Brain Games\n",
      "0.01128158844765343 : Racing;Pretend Play\n",
      "0.01128158844765343 : Puzzle;Education\n",
      "0.01128158844765343 : Parenting;Brain Games\n",
      "0.01128158844765343 : Music & Audio;Music & Video\n",
      "0.01128158844765343 : Lifestyle;Pretend Play\n",
      "0.01128158844765343 : Lifestyle;Education\n",
      "0.01128158844765343 : Health & Fitness;Education\n",
      "0.01128158844765343 : Health & Fitness;Action & Adventure\n",
      "0.01128158844765343 : Entertainment;Education\n",
      "0.01128158844765343 : Communication;Creativity\n",
      "0.01128158844765343 : Comics;Creativity\n",
      "0.01128158844765343 : Casual;Music & Video\n",
      "0.01128158844765343 : Card;Action & Adventure\n",
      "0.01128158844765343 : Books & Reference;Education\n",
      "0.01128158844765343 : Art & Design;Pretend Play\n",
      "0.01128158844765343 : Art & Design;Action & Adventure\n",
      "0.01128158844765343 : Arcade;Pretend Play\n",
      "0.01128158844765343 : Adventure;Education\n"
     ]
    }
   ],
   "source": [
    "print(display_table(free_ios_app,11))\n",
    "print('\\n')\n",
    "print(display_table(free_android_app,1))\n",
    "print('\\n')\n",
    "display_table(free_android_app,9)\n"
   ]
  },
  {
   "cell_type": "code",
   "execution_count": 27,
   "metadata": {
    "collapsed": false
   },
   "outputs": [
    {
     "name": "stdout",
     "output_type": "stream",
     "text": [
      "Photo & Video : 3.2724550898203595\n",
      "Medical : 3.0625\n",
      "Games : 3.379707576428888\n",
      "Food & Drink : 2.3372093023255816\n",
      "Catalogs : 1.7777777777777777\n",
      "Reference : 3.475\n",
      "Lifestyle : 1.824468085106383\n",
      "Business : 2.6\n",
      "Book : 1.378787878787879\n",
      "Finance : 1.5476190476190477\n",
      "Productivity : 3.814516129032258\n",
      "Education : 2.856060606060606\n",
      "Health & Fitness : 3.210526315789474\n",
      "Social Networking : 2.4405594405594404\n",
      "Utilities : 2.81651376146789\n",
      "Travel : 2.455357142857143\n",
      "Entertainment : 2.7619760479041915\n",
      "News : 2.086206896551724\n",
      "Weather : 2.725806451612903\n",
      "Shopping : 2.5991735537190084\n",
      "Music : 3.9477611940298507\n",
      "Navigation : 1.7\n",
      "Sports : 2.3987341772151898\n"
     ]
    }
   ],
   "source": [
    "ios_genre = freq_table(free_ios_app,11)\n",
    "for genre in ios_genre:\n",
    "    total = 0\n",
    "    len_genre = 0\n",
    "    for app in free_ios_app:\n",
    "        genre_app = app[11]\n",
    "        if genre == genre_app:\n",
    "            total += float(app[8])\n",
    "            len_genre += 1\n",
    "\n",
    "    avg_user_rating = total/len_genre\n",
    "    print(genre,':',avg_user_rating)"
   ]
  },
  {
   "cell_type": "code",
   "execution_count": 32,
   "metadata": {
    "collapsed": false
   },
   "outputs": [
    {
     "ename": "ValueError",
     "evalue": "could not convert string to float: '10000000+'",
     "output_type": "error",
     "traceback": [
      "\u001b[1;31m\u001b[0m",
      "\u001b[1;31mValueError\u001b[0mTraceback (most recent call last)",
      "\u001b[1;32m<ipython-input-32-819ce7497508>\u001b[0m in \u001b[0;36m<module>\u001b[1;34m()\u001b[0m\n\u001b[0;32m      9\u001b[0m             \u001b[0mhel\u001b[0m \u001b[1;33m=\u001b[0m \u001b[0mtot\u001b[0m\u001b[1;33m.\u001b[0m\u001b[0mreplace\u001b[0m\u001b[1;33m(\u001b[0m\u001b[1;34m','\u001b[0m\u001b[1;33m,\u001b[0m\u001b[1;34m''\u001b[0m\u001b[1;33m)\u001b[0m\u001b[1;33m\u001b[0m\u001b[0m\n\u001b[0;32m     10\u001b[0m             \u001b[0me\u001b[0m \u001b[1;33m=\u001b[0m \u001b[0mhel\u001b[0m\u001b[1;33m.\u001b[0m\u001b[0mreplace\u001b[0m\u001b[1;33m(\u001b[0m\u001b[1;34m'+'\u001b[0m\u001b[1;33m,\u001b[0m\u001b[1;34m''\u001b[0m\u001b[1;33m)\u001b[0m\u001b[1;33m\u001b[0m\u001b[0m\n\u001b[1;32m---> 11\u001b[1;33m             \u001b[0mtota\u001b[0m \u001b[1;33m=\u001b[0m \u001b[0mfloat\u001b[0m\u001b[1;33m(\u001b[0m\u001b[0mhel\u001b[0m\u001b[1;33m)\u001b[0m\u001b[1;33m\u001b[0m\u001b[0m\n\u001b[0m\u001b[0;32m     12\u001b[0m             \u001b[0mtotal\u001b[0m \u001b[1;33m+=\u001b[0m \u001b[0mtota\u001b[0m\u001b[1;33m\u001b[0m\u001b[0m\n\u001b[0;32m     13\u001b[0m             \u001b[0mlen_category\u001b[0m \u001b[1;33m+=\u001b[0m \u001b[1;36m1\u001b[0m\u001b[1;33m\u001b[0m\u001b[0m\n",
      "\u001b[1;31mValueError\u001b[0m: could not convert string to float: '10000000+'"
     ]
    }
   ],
   "source": [
    "android_cat = freq_table(free_android_app,1)\n",
    "for category in android_cat:\n",
    "    total = 0\n",
    "    len_category = 0\n",
    "    for app in free_android_app:\n",
    "        category_app = app[1]\n",
    "        if category == category_app:\n",
    "            tot = app[5]\n",
    "            hel = tot.replace(',','')\n",
    "            e = hel.replace('+','')\n",
    "            tota = float(hel)\n",
    "            total += tota\n",
    "            len_category += 1\n",
    "    avg_android = total/len_catrgory\n",
    "    print(category,':',avg_android)"
   ]
  },
  {
   "cell_type": "code",
   "execution_count": null,
   "metadata": {
    "collapsed": true
   },
   "outputs": [],
   "source": []
  }
 ],
 "metadata": {
  "kernelspec": {
   "display_name": "Python 3",
   "language": "python",
   "name": "python3"
  },
  "language_info": {
   "codemirror_mode": {
    "name": "ipython",
    "version": 3
   },
   "file_extension": ".py",
   "mimetype": "text/x-python",
   "name": "python",
   "nbconvert_exporter": "python",
   "pygments_lexer": "ipython3",
   "version": "3.4.3"
  }
 },
 "nbformat": 4,
 "nbformat_minor": 2
}
